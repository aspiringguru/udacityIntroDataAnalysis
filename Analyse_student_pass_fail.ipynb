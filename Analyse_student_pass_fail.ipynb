{
 "cells": [
  {
   "cell_type": "markdown",
   "metadata": {},
   "source": [
    "Before we get started, a couple of reminders to keep in mind when using iPython notebooks:\n",
    "\n",
    "- Remember that you can see from the left side of a code cell when it was last run if there is a number within the brackets.\n",
    "- When you start a new notebook session, make sure you run all of the cells up to the point where you last left off. Even if the output is still visible from when you ran the cells in your previous session, the kernel starts in a fresh state so you'll need to reload the data, etc. on a new session.\n",
    "- The previous point is useful to keep in mind if your answers do not match what is expected in the lesson's quizzes. Try reloading the data and run all of the processing steps one by one in order to make sure that you are working with the same variables and data that are at each quiz stage.\n",
    "\n",
    "\n",
    "## Load Data from CSVs"
   ]
  },
  {
   "cell_type": "code",
   "execution_count": 48,
   "metadata": {
    "collapsed": false
   },
   "outputs": [
    {
     "name": "stdout",
     "output_type": "stream",
     "text": [
      "type(enrollments)= <class 'list'>\n",
      "len(enrollments)= 1640\n",
      "enrollments[0]= {'status': 'canceled', 'account_key': '448', 'is_canceled': 'True', 'join_date': '2014-11-10', 'cancel_date': '2015-01-14', 'is_udacity': 'True', 'days_to_cancel': '65'}\n",
      "enrollments[0]['account_key']= 448\n"
     ]
    }
   ],
   "source": [
    "import unicodecsv\n",
    "\n",
    "## Longer version of code (replaced with shorter, equivalent version below)\n",
    "\n",
    "# enrollments = []\n",
    "# f = open('enrollments.csv', 'rb')\n",
    "# reader = unicodecsv.DictReader(f)\n",
    "# for row in reader:\n",
    "#     enrollments.append(row)\n",
    "# f.close()\n",
    "\n",
    "with open('enrollments.csv', 'rb') as f:\n",
    "    reader = unicodecsv.DictReader(f)\n",
    "    #NB: unicodecsv.DictReader produces dictionary\n",
    "    enrollments = list(reader)\n",
    "print (\"type(enrollments)=\", type(enrollments))\n",
    "print (\"len(enrollments)=\", len(enrollments))\n",
    "print (\"enrollments[0]=\", enrollments[0])\n",
    "print (\"enrollments[0]['account_key']=\", enrollments[0]['account_key'])"
   ]
  },
  {
   "cell_type": "code",
   "execution_count": 49,
   "metadata": {
    "collapsed": false
   },
   "outputs": [
    {
     "name": "stdout",
     "output_type": "stream",
     "text": [
      "type(reader)= <class 'unicodecsv.py3.DictReader'>\n",
      "type(daily_engagement)= <class 'list'>\n",
      "daily_engagement[0]= {'acct': '0', 'lessons_completed': '0.0', 'projects_completed': '0.0', 'num_courses_visited': '1.0', 'total_minutes_visited': '11.6793745', 'utc_date': '2015-01-09'}\n",
      "len(daily_engagement)= 136240 \n",
      "\n",
      "\n",
      "type(project_submissions)= <class 'list'>\n",
      "project_submissions[0]= {'creation_date': '2015-01-14', 'assigned_rating': 'UNGRADED', 'account_key': '256', 'completion_date': '2015-01-16', 'lesson_key': '3176718735', 'processing_state': 'EVALUATED'}\n",
      "len(project_submissions)= 3642 \n",
      "\n",
      "\n"
     ]
    }
   ],
   "source": [
    "#####################################\n",
    "#                 1                 #\n",
    "#####################################\n",
    "\n",
    "## Read in the data from daily_engagement.csv and project_submissions.csv \n",
    "## and store the results in the below variables.\n",
    "## Then look at the first row of each table.\n",
    "with open('daily_engagement.csv', 'rb') as f:\n",
    "    reader = unicodecsv.DictReader(f)\n",
    "    daily_engagement = list(reader)\n",
    "print (\"type(reader)=\", type(reader))\n",
    "print (\"type(daily_engagement)=\", type(daily_engagement))\n",
    "print (\"daily_engagement[0]=\", daily_engagement[0])\n",
    "print (\"len(daily_engagement)=\", len(daily_engagement), \"\\n\\n\")\n",
    "#daily_engagement = \n",
    "with open('project_submissions.csv', 'rb') as f:\n",
    "    reader = unicodecsv.DictReader(f)\n",
    "    project_submissions = list(reader)\n",
    "print (\"type(project_submissions)=\", type(project_submissions))\n",
    "print (\"project_submissions[0]=\", project_submissions[0])\n",
    "print (\"len(project_submissions)=\", len(project_submissions), \"\\n\\n\")\n",
    "#project_submissions = "
   ]
  },
  {
   "cell_type": "code",
   "execution_count": 50,
   "metadata": {
    "collapsed": false
   },
   "outputs": [
    {
     "name": "stdout",
     "output_type": "stream",
     "text": [
      "len(enrollments)= 1640\n",
      "len(daily_engagement)= 136240\n",
      "len(project_submissions)= 3642\n",
      "enrollments[0]= {'status': 'canceled', 'account_key': '448', 'is_canceled': 'True', 'join_date': '2014-11-10', 'cancel_date': '2015-01-14', 'is_udacity': 'True', 'days_to_cancel': '65'}\n",
      "daily_engagement[0]= {'acct': '0', 'lessons_completed': '0.0', 'projects_completed': '0.0', 'num_courses_visited': '1.0', 'total_minutes_visited': '11.6793745', 'utc_date': '2015-01-09'}\n",
      "project_submissions[0]= {'creation_date': '2015-01-14', 'assigned_rating': 'UNGRADED', 'account_key': '256', 'completion_date': '2015-01-16', 'lesson_key': '3176718735', 'processing_state': 'EVALUATED'}\n"
     ]
    }
   ],
   "source": [
    "#rewrite load csv files as function\n",
    "def read_csv(filename):\n",
    "    with open(filename, 'rb') as f:\n",
    "        reader = unicodecsv.DictReader(f)\n",
    "        return list(reader)\n",
    "\n",
    "enrollments = read_csv('enrollments.csv')\n",
    "daily_engagement = read_csv('daily_engagement.csv')\n",
    "project_submissions = read_csv('project_submissions.csv')\n",
    "print (\"len(enrollments)=\", len(enrollments))\n",
    "print (\"len(daily_engagement)=\", len(daily_engagement))\n",
    "print (\"len(project_submissions)=\", len(project_submissions))\n",
    "print (\"enrollments[0]=\", enrollments[0])\n",
    "print (\"daily_engagement[0]=\", daily_engagement[0])\n",
    "print (\"project_submissions[0]=\", project_submissions[0])"
   ]
  },
  {
   "cell_type": "markdown",
   "metadata": {},
   "source": [
    "## Fixing Data Types"
   ]
  },
  {
   "cell_type": "code",
   "execution_count": 51,
   "metadata": {
    "collapsed": false
   },
   "outputs": [
    {
     "data": {
      "text/plain": [
       "{'account_key': '448',\n",
       " 'cancel_date': datetime.datetime(2015, 1, 14, 0, 0),\n",
       " 'days_to_cancel': 65,\n",
       " 'is_canceled': True,\n",
       " 'is_udacity': True,\n",
       " 'join_date': datetime.datetime(2014, 11, 10, 0, 0),\n",
       " 'status': 'canceled'}"
      ]
     },
     "execution_count": 51,
     "metadata": {},
     "output_type": "execute_result"
    }
   ],
   "source": [
    "from datetime import datetime as dt\n",
    "\n",
    "# Takes a date as a string, and returns a Python datetime object. \n",
    "# If there is no date given, returns None\n",
    "#refer https://docs.python.org/3/library/datetime.html\n",
    "def parse_date(date):\n",
    "    if date == '':\n",
    "        return None\n",
    "    else:\n",
    "        return dt.strptime(date, '%Y-%m-%d')\n",
    "    \n",
    "# Takes a string which is either an empty string or represents an integer,\n",
    "# and returns an int or None.\n",
    "def parse_maybe_int(i):\n",
    "    if i == '':\n",
    "        return None\n",
    "    else:\n",
    "        return int(i)\n",
    "\n",
    "# Clean up the data types in the enrollments table\n",
    "try:\n",
    "    for enrollment in enrollments:\n",
    "        enrollment['cancel_date'] = parse_date(enrollment['cancel_date'])\n",
    "        enrollment['days_to_cancel'] = parse_maybe_int(enrollment['days_to_cancel'])\n",
    "        enrollment['is_canceled'] = enrollment['is_canceled'] == 'True'\n",
    "        enrollment['is_udacity'] = enrollment['is_udacity'] == 'True'\n",
    "        enrollment['join_date'] = parse_date(enrollment['join_date'])\n",
    "except TypeError:\n",
    "    print (\"enrollments already converted.\")\n",
    "enrollments[0]"
   ]
  },
  {
   "cell_type": "code",
   "execution_count": 52,
   "metadata": {
    "collapsed": false
   },
   "outputs": [
    {
     "name": "stdout",
     "output_type": "stream",
     "text": [
      "before formatting fix: daily_engagement[0]=\n",
      " {'acct': '0', 'lessons_completed': '0.0', 'projects_completed': '0.0', 'num_courses_visited': '1.0', 'total_minutes_visited': '11.6793745', 'utc_date': '2015-01-09'}\n",
      "after formatting fix: daily_engagement[0]=\n",
      " {'acct': '0', 'lessons_completed': 0, 'projects_completed': 0, 'num_courses_visited': 1, 'total_minutes_visited': 11.6793745, 'utc_date': datetime.datetime(2015, 1, 9, 0, 0)}\n"
     ]
    },
    {
     "data": {
      "text/plain": [
       "{'acct': '0',\n",
       " 'lessons_completed': 0,\n",
       " 'num_courses_visited': 1,\n",
       " 'projects_completed': 0,\n",
       " 'total_minutes_visited': 11.6793745,\n",
       " 'utc_date': datetime.datetime(2015, 1, 9, 0, 0)}"
      ]
     },
     "execution_count": 52,
     "metadata": {},
     "output_type": "execute_result"
    }
   ],
   "source": [
    "print (\"before formatting fix: daily_engagement[0]=\\n\", daily_engagement[0])\n",
    "# Clean up the data types in the engagement table\n",
    "for engagement_record in daily_engagement:\n",
    "    try:\n",
    "        #NB: lessons completed must be an integer. convert string to float, then convert to int.\n",
    "        engagement_record['lessons_completed'] = int(float(engagement_record['lessons_completed']))\n",
    "        #NB: num_courses_visited must be an integer. convert string to float, then convert to int.\n",
    "        engagement_record['num_courses_visited'] = int(float(engagement_record['num_courses_visited']))\n",
    "        #NB: projects_completed must be an integer. convert string to float, then convert to int.\n",
    "        engagement_record['projects_completed'] = int(float(engagement_record['projects_completed']))\n",
    "        #total_minutes_visited can be a float. no need to convert to int.\n",
    "        engagement_record['total_minutes_visited'] = float(engagement_record['total_minutes_visited'])\n",
    "        engagement_record['utc_date'] = parse_date(engagement_record['utc_date'])\n",
    "    except TypeError:\n",
    "        print (\"\\nstrings already converted to int(float). break out of loop. \\n\")\n",
    "        break\n",
    "    \n",
    "print (\"after formatting fix: daily_engagement[0]=\\n\", daily_engagement[0])\n",
    "daily_engagement[0]"
   ]
  },
  {
   "cell_type": "code",
   "execution_count": 53,
   "metadata": {
    "collapsed": false
   },
   "outputs": [
    {
     "name": "stdout",
     "output_type": "stream",
     "text": [
      "before type conversion, project_submissions[0]= {'creation_date': '2015-01-14', 'assigned_rating': 'UNGRADED', 'account_key': '256', 'completion_date': '2015-01-16', 'lesson_key': '3176718735', 'processing_state': 'EVALUATED'}\n",
      "\n",
      "\n",
      "after  type conversion, project_submissions[0]=\n",
      " {'creation_date': datetime.datetime(2015, 1, 14, 0, 0), 'assigned_rating': 'UNGRADED', 'account_key': '256', 'completion_date': datetime.datetime(2015, 1, 16, 0, 0), 'lesson_key': '3176718735', 'processing_state': 'EVALUATED'}\n"
     ]
    },
    {
     "data": {
      "text/plain": [
       "{'acct': '0',\n",
       " 'lessons_completed': 0,\n",
       " 'num_courses_visited': 1,\n",
       " 'projects_completed': 0,\n",
       " 'total_minutes_visited': 11.6793745,\n",
       " 'utc_date': datetime.datetime(2015, 1, 9, 0, 0)}"
      ]
     },
     "execution_count": 53,
     "metadata": {},
     "output_type": "execute_result"
    }
   ],
   "source": [
    "# Clean up the data types in the submissions table\n",
    "\n",
    "#setup basestring for testing if objects are string. test if data is class string.\n",
    "try:\n",
    "  basestring\n",
    "except NameError:\n",
    "  basestring = str\n",
    "\n",
    "if isinstance(project_submissions[0]['completion_date'], basestring):\n",
    "    print (\"before type conversion, project_submissions[0]=\", project_submissions[0])\n",
    "    for submission in project_submissions:\n",
    "            submission['completion_date'] = parse_date(submission['completion_date'])\n",
    "            submission['creation_date'] = parse_date(submission['creation_date'])\n",
    "else:\n",
    "    print (\"\\n\\n type conversion already done. skip. \\n\\n\")\n",
    "\n",
    "print (\"\\n\\nafter  type conversion, project_submissions[0]=\\n\", project_submissions[0])\n",
    "daily_engagement[0]"
   ]
  },
  {
   "cell_type": "markdown",
   "metadata": {},
   "source": [
    "Note when running the above cells that we are actively changing the contents of our data variables. If you try to run these cells multiple times in the same session, an error will occur.\n",
    "\n",
    "## Investigating the Data"
   ]
  },
  {
   "cell_type": "code",
   "execution_count": 54,
   "metadata": {
    "collapsed": false
   },
   "outputs": [
    {
     "name": "stdout",
     "output_type": "stream",
     "text": [
      "len(enrollment_num_unique_students)= 1302\n",
      "len(unique_engagement_students)= 1237\n",
      "len(unique_project_submitters)= 743\n",
      "<class 'dict'>\n",
      "daily_engagement[0]['account_key']= 0\n"
     ]
    }
   ],
   "source": [
    "#####################################\n",
    "#                 2                 #\n",
    "#####################################\n",
    "\n",
    "## Find the total number of rows and the number of unique students (account keys)\n",
    "## in each table.\n",
    "\n",
    "def getUniqueColValues(listFromCsv, columnName):\n",
    "    uniqueElement = set()\n",
    "    for element in listFromCsv:\n",
    "        uniqueElement.add(element[columnName])\n",
    "    return uniqueElement\n",
    "\n",
    "enrollment_num_unique_students = getUniqueColValues(enrollments, 'account_key')\n",
    "#print (type(enrollment_num_unique_students))\n",
    "print (\"len(enrollment_num_unique_students)=\", len(enrollment_num_unique_students))\n",
    "unique_engagement_students = getUniqueColValues(daily_engagement, 'acct')\n",
    "#unique_engagement_students = getUniqueColValues(daily_engagement, 'account_key')\n",
    "print (\"len(unique_engagement_students)=\", len(unique_engagement_students))\n",
    "unique_project_submitters = getUniqueColValues(project_submissions, 'account_key')\n",
    "print (\"len(unique_project_submitters)=\", len(unique_project_submitters))\n",
    "print (type(daily_engagement[0]))\n",
    "#print (\"daily_engagement[0]['account_key']=\", daily_engagement[0]['account_key'])\n",
    "print (\"daily_engagement[0]['account_key']=\", daily_engagement[0]['acct'])"
   ]
  },
  {
   "cell_type": "markdown",
   "metadata": {},
   "source": [
    "## Problems in the Data"
   ]
  },
  {
   "cell_type": "code",
   "execution_count": 55,
   "metadata": {
    "collapsed": false
   },
   "outputs": [
    {
     "name": "stdout",
     "output_type": "stream",
     "text": [
      "daily_engagement[0]=\n",
      " {'lessons_completed': 0, 'account_key': '0', 'projects_completed': 0, 'num_courses_visited': 1, 'total_minutes_visited': 11.6793745, 'utc_date': datetime.datetime(2015, 1, 9, 0, 0)}\n",
      "daily_engagement[0]=\n",
      " {'lessons_completed': 0, 'account_key': '0', 'projects_completed': 0, 'num_courses_visited': 2, 'total_minutes_visited': 37.2848873333, 'utc_date': datetime.datetime(2015, 1, 10, 0, 0)}\n"
     ]
    }
   ],
   "source": [
    "#####################################\n",
    "#                 3                 #\n",
    "#####################################\n",
    "\n",
    "## Rename the \"acct\" column in the daily_engagement table to \"account_key\".\n",
    "for engagement_record in daily_engagement:\n",
    "    engagement_record['account_key'] = engagement_record['acct']\n",
    "    del[engagement_record['acct']]\n",
    "    #replace these two lines with one line.\n",
    "    #try:\n",
    "    #    engagement_record['account_key'] = engagement_record.pop('acct')\n",
    "    #except KeyError:\n",
    "    #    print (\"key already removed.\")\n",
    "    #    break\n",
    "print (\"daily_engagement[0]=\\n\", daily_engagement[0])\n",
    "print (\"daily_engagement[0]=\\n\", daily_engagement[1])"
   ]
  },
  {
   "cell_type": "code",
   "execution_count": 56,
   "metadata": {
    "collapsed": false
   },
   "outputs": [
    {
     "name": "stdout",
     "output_type": "stream",
     "text": [
      "len(enrollments)= 1640\n",
      "type(enrollments)= <class 'list'>\n",
      "type(unique_enrolled_students)= <class 'set'>\n",
      "len(unique_enrolled_students)= 1302\n",
      "\n",
      "\n",
      "\n",
      "len(daily_engagement)= 136240\n",
      "len(unique_engagement_students)= 1237\n",
      "\n",
      "\n",
      "\n",
      "len(project_submissions)= 3642\n",
      "len(unique_project_submitters)= 743\n",
      "type(unique_enrolled_students)= <class 'set'>\n",
      "type(unique_engagement_students)= <class 'set'>\n",
      "\n",
      "\n",
      "1st method\n",
      "record= {'status': 'canceled', 'account_key': '727', 'is_canceled': True, 'join_date': datetime.datetime(2014, 12, 7, 0, 0), 'cancel_date': datetime.datetime(2014, 12, 7, 0, 0), 'is_udacity': False, 'days_to_cancel': 0}\n",
      "record= {'status': 'canceled', 'account_key': '1010', 'is_canceled': True, 'join_date': datetime.datetime(2015, 1, 11, 0, 0), 'cancel_date': datetime.datetime(2015, 1, 11, 0, 0), 'is_udacity': False, 'days_to_cancel': 0}\n",
      "record= {'status': 'canceled', 'account_key': '841', 'is_canceled': True, 'join_date': datetime.datetime(2014, 11, 12, 0, 0), 'cancel_date': datetime.datetime(2014, 11, 12, 0, 0), 'is_udacity': False, 'days_to_cancel': 0}\n",
      "\n",
      "\n",
      "2nd method\n",
      "{'status': 'canceled', 'account_key': '1219', 'is_canceled': True, 'join_date': datetime.datetime(2014, 11, 12, 0, 0), 'cancel_date': datetime.datetime(2014, 11, 12, 0, 0), 'is_udacity': False, 'days_to_cancel': 0}\n",
      "{'status': 'canceled', 'account_key': '871', 'is_canceled': True, 'join_date': datetime.datetime(2014, 11, 13, 0, 0), 'cancel_date': datetime.datetime(2014, 11, 13, 0, 0), 'is_udacity': False, 'days_to_cancel': 0}\n",
      "{'status': 'canceled', 'account_key': '1218', 'is_canceled': True, 'join_date': datetime.datetime(2014, 11, 15, 0, 0), 'cancel_date': datetime.datetime(2014, 11, 15, 0, 0), 'is_udacity': False, 'days_to_cancel': 0}\n"
     ]
    }
   ],
   "source": [
    "#####################################\n",
    "#                 4                 #\n",
    "#####################################\n",
    "\n",
    "## Find any one student enrollments where the student is missing from the daily engagement table.\n",
    "## Output that enrollment.\n",
    "def get_unique_students(data):\n",
    "    #build set of unique values for 'account_key' in given arg\n",
    "    unique_students = set()\n",
    "    for data_point in data:\n",
    "        unique_students.add(data_point['account_key'])\n",
    "    return unique_students\n",
    "print (\"len(enrollments)=\", len(enrollments))\n",
    "print (\"type(enrollments)=\", type(enrollments))\n",
    "unique_enrolled_students = get_unique_students(enrollments)\n",
    "print (\"type(unique_enrolled_students)=\", type(unique_enrolled_students))\n",
    "print (\"len(unique_enrolled_students)=\", len(unique_enrolled_students))\n",
    "print (\"\\n\\n\")\n",
    "print (\"len(daily_engagement)=\", len(daily_engagement))\n",
    "unique_engagement_students = get_unique_students(daily_engagement)\n",
    "print (\"len(unique_engagement_students)=\", len(unique_engagement_students))\n",
    "print (\"\\n\\n\")\n",
    "print (\"len(project_submissions)=\", len(project_submissions))\n",
    "unique_project_submitters = get_unique_students(project_submissions)\n",
    "print (\"len(unique_project_submitters)=\", len(unique_project_submitters))\n",
    "\n",
    "#why are students in 'unique_enrolled_students' missing from the 'unique_engagement_students'\n",
    "print(\"type(unique_enrolled_students)=\", type(unique_enrolled_students))\n",
    "print(\"type(unique_engagement_students)=\", type(unique_engagement_students))\n",
    "sampleSize = 3\n",
    "count = 0\n",
    "#find unique_enrolled_students not in unique_engagement_students\n",
    "#print some records of these students for inspection\n",
    "print (\"\\n\\n1st method\")\n",
    "for student in unique_enrolled_students:\n",
    "    if student not in unique_engagement_students:\n",
    "        #print (\"student w account_key=\", student, \" not in unique_engagement_students\")\n",
    "        for record in enrollments:\n",
    "            if record['account_key'] == student:\n",
    "                print (\"record=\", record)\n",
    "                count += 1\n",
    "        if count >=sampleSize: break\n",
    "            \n",
    "\n",
    "print (\"\\n\\n2nd method\")\n",
    "count = 0\n",
    "for enrollment in enrollments:\n",
    "    student = enrollment['account_key']\n",
    "    if student not in unique_engagement_students:\n",
    "        print (enrollment)\n",
    "        count += 1\n",
    "        if count >=sampleSize: break\n",
    "\n",
    "#all have 'status': 'canceled' & 'is_canceled': True, 'days_to_cancel': 0\n",
    "#also 'cancel_date' = 'join_date'. ie: they enrolled and cancelled the same day\n",
    "#makes sense - these are students who have cancelled.\n"
   ]
  },
  {
   "cell_type": "markdown",
   "metadata": {},
   "source": [
    "## Missing Engagement Records"
   ]
  },
  {
   "cell_type": "markdown",
   "metadata": {},
   "source": [
    "## Checking for More Problem Records"
   ]
  },
  {
   "cell_type": "code",
   "execution_count": 57,
   "metadata": {
    "collapsed": false
   },
   "outputs": [
    {
     "name": "stdout",
     "output_type": "stream",
     "text": [
      "{'status': 'canceled', 'account_key': '1304', 'is_canceled': True, 'join_date': datetime.datetime(2015, 1, 10, 0, 0), 'cancel_date': datetime.datetime(2015, 3, 10, 0, 0), 'is_udacity': True, 'days_to_cancel': 59}\n",
      "{'status': 'canceled', 'account_key': '1304', 'is_canceled': True, 'join_date': datetime.datetime(2015, 3, 10, 0, 0), 'cancel_date': datetime.datetime(2015, 6, 17, 0, 0), 'is_udacity': True, 'days_to_cancel': 99}\n"
     ]
    }
   ],
   "source": [
    "#####################################\n",
    "#                 5                 #\n",
    "#####################################\n",
    "\n",
    "## Find the number of surprising data points (enrollments missing from\n",
    "## the engagement table) that remain, if any.\n",
    "\n",
    "#students in the enrollment table who are missing from the engagement table, but were enrolled for >= 1 day.\n",
    "for enrollment in enrollments:\n",
    "    student = enrollment['account_key']\n",
    "    if student not in unique_engagement_students:\n",
    "        #print (type(enrollment['days_to_cancel']))\n",
    "        if enrollment['days_to_cancel'] is not None and enrollment['days_to_cancel']>0:\n",
    "            print (enrollment)\n",
    "        \n",
    "#results = 2 records with 'is_udacity': True.\n",
    "#these are test accounts created by udacity. need to be discarded prior to analysis."
   ]
  },
  {
   "cell_type": "markdown",
   "metadata": {},
   "source": [
    "### Tracking Down the Remaining Problems"
   ]
  },
  {
   "cell_type": "code",
   "execution_count": 58,
   "metadata": {
    "collapsed": false
   },
   "outputs": [
    {
     "name": "stdout",
     "output_type": "stream",
     "text": [
      "enrollments[0]= {'status': 'canceled', 'account_key': '448', 'is_canceled': True, 'join_date': datetime.datetime(2014, 11, 10, 0, 0), 'cancel_date': datetime.datetime(2015, 1, 14, 0, 0), 'is_udacity': True, 'days_to_cancel': 65}\n"
     ]
    },
    {
     "data": {
      "text/plain": [
       "6"
      ]
     },
     "execution_count": 58,
     "metadata": {},
     "output_type": "execute_result"
    }
   ],
   "source": [
    "# Create a set of the account keys for all Udacity test accounts\n",
    "print (\"enrollments[0]=\", enrollments[0])\n",
    "udacity_test_accounts = set()\n",
    "for enrollment in enrollments:\n",
    "    if enrollment['is_udacity']:\n",
    "        udacity_test_accounts.add(enrollment['account_key'])\n",
    "len(udacity_test_accounts)"
   ]
  },
  {
   "cell_type": "code",
   "execution_count": 59,
   "metadata": {
    "collapsed": true
   },
   "outputs": [],
   "source": [
    "# Given some data with an account_key field, removes any records corresponding to Udacity test accounts\n",
    "def remove_udacity_accounts(data):\n",
    "    non_udacity_data = []\n",
    "    for data_point in data:\n",
    "        if data_point['account_key'] not in udacity_test_accounts:\n",
    "            non_udacity_data.append(data_point)\n",
    "    return non_udacity_data"
   ]
  },
  {
   "cell_type": "code",
   "execution_count": 60,
   "metadata": {
    "collapsed": false
   },
   "outputs": [
    {
     "name": "stdout",
     "output_type": "stream",
     "text": [
      "1622\n",
      "135656\n",
      "3634\n"
     ]
    }
   ],
   "source": [
    "# Remove Udacity test accounts from all three tables\n",
    "non_udacity_enrollments = remove_udacity_accounts(enrollments)\n",
    "non_udacity_engagement = remove_udacity_accounts(daily_engagement)\n",
    "non_udacity_submissions = remove_udacity_accounts(project_submissions)\n",
    "\n",
    "print (len(non_udacity_enrollments))\n",
    "print (len(non_udacity_engagement))\n",
    "print (len(non_udacity_submissions))"
   ]
  },
  {
   "cell_type": "code",
   "execution_count": 61,
   "metadata": {
    "collapsed": false
   },
   "outputs": [
    {
     "name": "stdout",
     "output_type": "stream",
     "text": [
      "92\n",
      "['448', '448', '448', '448', '322', '1219', '871', '895', '1218', '499', '654', '654', '654', '964', '295', '346', '817', '1171', '884', '875', '1120', '728', '1191', '682', '5', '1010', '841', '1035', '640', '707', '717', '727', '1273', '1238', '1044', '749', '1129', '1129', '853', '1296', '926', '379', '711', '803', '799', '789', '819', '819', '902', '996', '1213', '733', '1237', '1069', '1086', '1190', '914', '914', '1279', '968', '1155', '825', '766', '1039', '739', '1222', '1125', '708', '1025', '750', '889', '737', '878', '981', '653', '1177', '1148', '1119', '1186', '725', '1145', '658', '802', '664', '997', '870', '1284', '1079', '1063', '1270', '1291', '1241']\n"
     ]
    }
   ],
   "source": [
    "#find students who cancelled within one day of joining.\n",
    "#https://youtu.be/R5EsIDJ0apw?t=22\n",
    "#NB: this explains why the student is missing from the engagement table.\n",
    "#row in enrolments table, cancel_date = join_date, or days_to_cancel=0 (?)\n",
    "# these columns ['is_canceled'=True or 'status': 'canceled'] are useful but don't prove the same event.\n",
    "cancelledSameDayKeys = []\n",
    "for enrollment in enrollments:\n",
    "    if enrollment['cancel_date'] == enrollment['join_date']:\n",
    "        cancelledSameDayKeys.append(enrollment['account_key'])\n",
    "print (len(cancelledSameDayKeys))\n",
    "print (cancelledSameDayKeys)"
   ]
  },
  {
   "cell_type": "markdown",
   "metadata": {},
   "source": [
    "## Refining the Question"
   ]
  },
  {
   "cell_type": "code",
   "execution_count": 62,
   "metadata": {
    "collapsed": false
   },
   "outputs": [
    {
     "name": "stdout",
     "output_type": "stream",
     "text": [
      "len(non_udacity_enrollments)= 1622\n",
      "len(paid_students)= 995\n"
     ]
    }
   ],
   "source": [
    "#####################################\n",
    "#                 6                 #\n",
    "#####################################\n",
    "\n",
    "## Create a dictionary named paid_students containing all students who either\n",
    "## haven't canceled yet or who remained enrolled for more than 7 days. The keys\n",
    "## should be account keys, and the values should be the date the student enrolled.\n",
    "\n",
    "#\"haven't canceled yet\" : enrollment['is_canceled'] = False\n",
    "# OR\n",
    "#remained enrolled for more than 7 days: enrollment['cancel_date'] > 7 days after enrollment['join_date']\n",
    "from datetime import date\n",
    "\n",
    "paid_students = {}\n",
    "count = 0\n",
    "print(\"len(non_udacity_enrollments)=\", len(non_udacity_enrollments))\n",
    "for enrollment in non_udacity_enrollments:\n",
    "    #print (\"enrollment['is_canceled']=\", enrollment['is_canceled'])\n",
    "    #if not enrollment['is_canceled']:  #keep this as is works.\n",
    "    #print (\"join_date=\", enrollment['join_date'], \"cancel_date=\", enrollment['cancel_date'])\n",
    "    if enrollment['cancel_date']:\n",
    "        daysEnrolled = (enrollment['cancel_date'] - enrollment['join_date']).days\n",
    "    else: \n",
    "        daysEnrolled = -1\n",
    "    #print (\"type(daysEnrolled)=\", type(daysEnrolled))\n",
    "    #print (\"cancel_date-join_date = \", daysEnrolled)\n",
    "    if daysEnrolled>7 or not enrollment['is_canceled']:\n",
    "        paid_students[enrollment['account_key']] = enrollment['join_date']\n",
    "        count += 1\n",
    "print (\"len(paid_students)=\", len(paid_students))\n",
    "#print (\"paid_students=\", paid_students)"
   ]
  },
  {
   "cell_type": "markdown",
   "metadata": {},
   "source": [
    "## Getting Data from First Week"
   ]
  },
  {
   "cell_type": "code",
   "execution_count": 63,
   "metadata": {
    "collapsed": false
   },
   "outputs": [
    {
     "name": "stdout",
     "output_type": "stream",
     "text": [
      "len(paid_enrollments)= 1293\n",
      "len(paid_engagement) 134549\n",
      "len(paid_submissions) 3618\n",
      "len(paid_engagement_in_first_week)= 6920\n"
     ]
    }
   ],
   "source": [
    "# Takes a student's join date and the date of a specific engagement record,\n",
    "# and returns True if that engagement record happened within one week\n",
    "# of the student joining.\n",
    "#NB: added condition time_delta.days must be positive.\n",
    "# refer https://youtu.be/adqc5fF5B8Y\n",
    "def within_one_week(join_date, engagement_date):\n",
    "    time_delta = engagement_date - join_date\n",
    "    #return time_delta.days < 7 # original version. \n",
    "    return time_delta.days >= 0 and time_delta.days < 7\n",
    "\n",
    "def remove_free_trial_cancels(data):\n",
    "    #paid_students is a list of keys for enrollments meeting these conditions\n",
    "    #\"haven't canceled yet\" : enrollment['is_canceled'] = False\n",
    "    # OR\n",
    "    #remained enrolled for more than 7 days: enrollment['cancel_date'] > 7 days after enrollment['join_date']\n",
    "    new_data = []\n",
    "    for data_point in data:\n",
    "        if data_point['account_key'] in paid_students:\n",
    "            new_data.append(data_point)\n",
    "    return new_data\n",
    "\n",
    "#clean data by removing udacity test accounts. uses remove_free_trial_cancels method\n",
    "# and non_udacity_xxxx which is formed from method remove_udacity_accounts\n",
    "# method remove_udacity_accounts used udacity_test_accounts \n",
    "# udacity_test_accounts are records in enrollments where enrollments['is_udacity']=True\n",
    "\n",
    "paid_enrollments = remove_free_trial_cancels(non_udacity_enrollments)\n",
    "paid_engagement = remove_free_trial_cancels(non_udacity_engagement)\n",
    "paid_submissions = remove_free_trial_cancels(non_udacity_submissions)\n",
    "\n",
    "print (\"len(paid_enrollments)=\", len(paid_enrollments))\n",
    "print (\"len(paid_engagement)\", len(paid_engagement))\n",
    "print (\"len(paid_submissions)\", len(paid_submissions))\n",
    "\n",
    "paid_engagement_in_first_week = []\n",
    "# loop through paid_engagement records\n",
    "# paid_students contains all students who either haven't canceled yet or remained enrolled for more than 7 days.\n",
    "# recall that paid_students[enrollment['account_key']] = enrollment['join_date']\n",
    "# test if engagement date & date joined  are within 7 days.\n",
    "for engagement_record in paid_engagement:\n",
    "    account_key = engagement_record['account_key']\n",
    "    join_date = paid_students[account_key]\n",
    "    engagement_record_date = engagement_record['utc_date']\n",
    "\n",
    "    if within_one_week(join_date, engagement_record_date):\n",
    "        paid_engagement_in_first_week.append(engagement_record)\n",
    "\n",
    "print (\"len(paid_engagement_in_first_week)=\", len(paid_engagement_in_first_week))"
   ]
  },
  {
   "cell_type": "code",
   "execution_count": 64,
   "metadata": {
    "collapsed": false
   },
   "outputs": [
    {
     "name": "stdout",
     "output_type": "stream",
     "text": [
      "{'lessons_completed': 0, 'account_key': '0', 'projects_completed': 0, 'num_courses_visited': 1, 'total_minutes_visited': 11.6793745, 'utc_date': datetime.datetime(2015, 1, 9, 0, 0)}\n",
      "{'lessons_completed': 0, 'account_key': '0', 'projects_completed': 0, 'num_courses_visited': 2, 'total_minutes_visited': 37.2848873333, 'utc_date': datetime.datetime(2015, 1, 10, 0, 0)}\n",
      "{'lessons_completed': 0, 'account_key': '0', 'projects_completed': 0, 'num_courses_visited': 2, 'total_minutes_visited': 53.6337463333, 'utc_date': datetime.datetime(2015, 1, 11, 0, 0)}\n",
      "{'lessons_completed': 0, 'account_key': '0', 'projects_completed': 0, 'num_courses_visited': 1, 'total_minutes_visited': 33.4892696667, 'utc_date': datetime.datetime(2015, 1, 12, 0, 0)}\n",
      "{'lessons_completed': 0, 'account_key': '0', 'projects_completed': 0, 'num_courses_visited': 1, 'total_minutes_visited': 64.7796776667, 'utc_date': datetime.datetime(2015, 1, 13, 0, 0)}\n"
     ]
    }
   ],
   "source": [
    "#####################################\n",
    "#                 7                 #\n",
    "#####################################\n",
    "\n",
    "## Create a list of rows from the engagement table including only rows where\n",
    "## the student is one of the paid students you just found, and the date is within\n",
    "## one week of the student's join date.\n",
    "\n",
    "#see cell above\n",
    "for i in range (5):\n",
    "    print (paid_engagement_in_first_week[i])"
   ]
  },
  {
   "cell_type": "markdown",
   "metadata": {},
   "source": [
    "## Exploring Student Engagement"
   ]
  },
  {
   "cell_type": "code",
   "execution_count": 65,
   "metadata": {
    "collapsed": false
   },
   "outputs": [
    {
     "name": "stdout",
     "output_type": "stream",
     "text": [
      "type(engagement_by_account)= <class 'collections.defaultdict'>\n",
      "len(engagement_by_account)= 995\n",
      "<class 'str'>\n",
      "type(engagement_by_account[firstKey])= <class 'list'>\n",
      "len(engagement_by_account[firstKey])= 7\n",
      "type(engagement_by_account[firstKey][0])= <class 'dict'>\n"
     ]
    }
   ],
   "source": [
    "from collections import defaultdict\n",
    "\n",
    "# Create a dictionary of engagement grouped by student.\n",
    "# The keys are account keys, and the values are lists of engagement records.\n",
    "# refer api docs https://docs.python.org/3/library/collections.html#collections.defaultdict\n",
    "# youtube lecture = https://youtu.be/6QLiscx_zIY \n",
    "engagement_by_account = defaultdict(list)\n",
    "for engagement_record in paid_engagement_in_first_week:\n",
    "    account_key = engagement_record['account_key']\n",
    "    engagement_by_account[account_key].append(engagement_record)\n",
    "\n",
    "print (\"type(engagement_by_account)=\", type(engagement_by_account))\n",
    "print (\"len(engagement_by_account)=\", len(engagement_by_account))\n",
    "#print (\"first key = \", list(engagement_by_account.keys())[0])\n",
    "firstKey = list(engagement_by_account.keys())[0]\n",
    "print (type(firstKey))\n",
    "#hide next because it is long.\n",
    "#print (\"engagement_by_account[\",firstKey,\"]=\",engagement_by_account[firstKey])\n",
    "print (\"type(engagement_by_account[firstKey])=\", type(engagement_by_account[firstKey]))\n",
    "print (\"len(engagement_by_account[firstKey])=\", len(engagement_by_account[firstKey]))\n",
    "print (\"type(engagement_by_account[firstKey][0])=\", type(engagement_by_account[firstKey][0]))\n",
    "\n",
    "#notes: 995 records, each record is a list, each list item is a dict and is filtered from the original engagement data."
   ]
  },
  {
   "cell_type": "code",
   "execution_count": 66,
   "metadata": {
    "collapsed": false
   },
   "outputs": [
    {
     "name": "stdout",
     "output_type": "stream",
     "text": [
      "type(total_minutes_by_account)= <class 'dict'>\n",
      "total_minutes_by_account[ 87 ]= 1035.306503999\n",
      "len(total_minutes_by_account)= 995\n"
     ]
    }
   ],
   "source": [
    "# Create a dictionary with the total minutes each student spent in the classroom during the first week.\n",
    "# The keys are account keys, and the values are numbers (total minutes)\n",
    "# refer lecture https://youtu.be/6QLiscx_zIY?t=110\n",
    "total_minutes_by_account = {}\n",
    "for account_key, engagement_for_student in engagement_by_account.items():\n",
    "    #loops through collections.defaultdict object 'engagement_by_account'\n",
    "    #each engagement_for_student retrieved is a list object.\n",
    "    total_minutes = 0\n",
    "    for engagement_record in engagement_for_student:\n",
    "        #retrieve each record and add 'total_minutes_visited' to total.\n",
    "        total_minutes += engagement_record['total_minutes_visited']\n",
    "    total_minutes_by_account[account_key] = total_minutes\n",
    "    \n",
    "print (\"type(total_minutes_by_account)=\", type(total_minutes_by_account))\n",
    "firstKey = list(total_minutes_by_account.keys())[0]\n",
    "#print (\"firstKey of total_minutes_by_account=\", firstKey)\n",
    "print (\"total_minutes_by_account[\", firstKey, \"]=\", total_minutes_by_account[firstKey])\n",
    "print (\"len(total_minutes_by_account)=\", len(total_minutes_by_account))"
   ]
  },
  {
   "cell_type": "code",
   "execution_count": 67,
   "metadata": {
    "collapsed": false
   },
   "outputs": [
    {
     "name": "stdout",
     "output_type": "stream",
     "text": [
      "len(total_minutes)= 995 \n",
      "\n",
      "Mean: 305.414718908\n",
      "Standard deviation: 405.91261032\n",
      "Minimum: 0.0\n",
      "Maximum: 3564.7332645\n"
     ]
    }
   ],
   "source": [
    "#refer lecture https://youtu.be/6QLiscx_zIY?t=160\n",
    "import numpy as np\n",
    "\n",
    "# Summarize the data about minutes spent in the classroom\n",
    "total_minutes = total_minutes_by_account.values()\n",
    "#print (\"type(total_minutes)=\", type(total_minutes))\n",
    "total_minutes = list(total_minutes)\n",
    "#NB: conversion to list required in python 3.5 since dict_values returns a view cf python 2.7\n",
    "#refer https://docs.python.org/3/library/stdtypes.html#dictionary-view-objects\n",
    "#print (\"after conversion to list type(total_minutes)=\", type(total_minutes))\n",
    "print (\"len(total_minutes)=\", len(total_minutes), \"\\n\")\n",
    "print ('Mean:', np.mean(total_minutes))\n",
    "print ('Standard deviation:', np.std(total_minutes))\n",
    "print ('Minimum:', np.min(total_minutes))\n",
    "print ('Maximum:', np.max(total_minutes))\n",
    "#NB the Maximum is excessively high & exceeds number of minutes in a week"
   ]
  },
  {
   "cell_type": "markdown",
   "metadata": {},
   "source": [
    "## Debugging Data Analysis Code"
   ]
  },
  {
   "cell_type": "code",
   "execution_count": 68,
   "metadata": {
    "collapsed": false,
    "scrolled": false
   },
   "outputs": [
    {
     "name": "stdout",
     "output_type": "stream",
     "text": [
      "<class 'dict'>\n",
      "max_minutes= 3564.7332644989997 student_with_max_minutes= 163\n",
      "type(paid_engagement_in_first_week)= <class 'list'>\n",
      "type(paid_engagement_in_first_week[0])= <class 'dict'>\n",
      "paid_engagement_in_first_week[0].keys()=\n",
      " ['lessons_completed', 'account_key', 'projects_completed', 'num_courses_visited', 'total_minutes_visited', 'utc_date'] \n",
      "\n",
      "{'lessons_completed': 4, 'account_key': '163', 'projects_completed': 0, 'num_courses_visited': 4, 'total_minutes_visited': 850.519339666, 'utc_date': datetime.datetime(2015, 7, 9, 0, 0)}\n",
      "{'lessons_completed': 6, 'account_key': '163', 'projects_completed': 0, 'num_courses_visited': 6, 'total_minutes_visited': 872.633923334, 'utc_date': datetime.datetime(2015, 7, 10, 0, 0)}\n",
      "{'lessons_completed': 6, 'account_key': '163', 'projects_completed': 0, 'num_courses_visited': 2, 'total_minutes_visited': 777.018903666, 'utc_date': datetime.datetime(2015, 7, 11, 0, 0)}\n",
      "{'lessons_completed': 2, 'account_key': '163', 'projects_completed': 0, 'num_courses_visited': 1, 'total_minutes_visited': 294.568774, 'utc_date': datetime.datetime(2015, 7, 12, 0, 0)}\n",
      "{'lessons_completed': 1, 'account_key': '163', 'projects_completed': 0, 'num_courses_visited': 3, 'total_minutes_visited': 471.2139785, 'utc_date': datetime.datetime(2015, 7, 13, 0, 0)}\n",
      "{'lessons_completed': 1, 'account_key': '163', 'projects_completed': 0, 'num_courses_visited': 2, 'total_minutes_visited': 298.778345333, 'utc_date': datetime.datetime(2015, 7, 14, 0, 0)}\n",
      "{'lessons_completed': 0, 'account_key': '163', 'projects_completed': 0, 'num_courses_visited': 0, 'total_minutes_visited': 0.0, 'utc_date': datetime.datetime(2015, 7, 15, 0, 0)}\n",
      "student_with_max_minutesMinutes= [850.519339666, 872.633923334, 777.018903666, 294.568774, 471.2139785, 298.778345333, 0.0]\n",
      "len(maxMinutes)= 7\n",
      "type(student_with_max_minutesMinutes)= <class 'list'>\n",
      "type(student_with_max_minutesMinutes[0])= <class 'float'>\n",
      "max(student_with_max_minutesMinutes)= 872.633923334\n",
      "sum(student_with_max_minutesMinutes)= 3564.7332644989997\n",
      "max(total_minutes_by_account.items(), key=lambda pair: pair[1])= ('163', 3564.7332644989997)\n"
     ]
    }
   ],
   "source": [
    "#####################################\n",
    "#                 8                 #\n",
    "#####################################\n",
    "student_with_max_minutes = None\n",
    "max_minutes = 0\n",
    "\n",
    "#total_minutes_by_account = dictionary with the total minutes each student spent in the classroom during the first week.\n",
    "# The keys are account keys, and the values are numbers (total minutes)\n",
    "print (type(total_minutes_by_account))\n",
    "\n",
    "for student, total_minutes in total_minutes_by_account.items():\n",
    "    if total_minutes > max_minutes:\n",
    "        max_minutes = total_minutes\n",
    "        student_with_max_minutes = student\n",
    "\n",
    "print (\"max_minutes=\", max_minutes, \"student_with_max_minutes=\", student_with_max_minutes)\n",
    "\n",
    "print (\"type(paid_engagement_in_first_week)=\", type(paid_engagement_in_first_week))#is a list\n",
    "print (\"type(paid_engagement_in_first_week[0])=\", type(paid_engagement_in_first_week[0]))#is a list\n",
    "print (\"paid_engagement_in_first_week[0].keys()=\\n\", list(paid_engagement_in_first_week[0].keys()), \"\\n\")\n",
    "\n",
    "student_with_max_minutesMinutes = []\n",
    "for engagement_record in paid_engagement_in_first_week:\n",
    "    if engagement_record['account_key'] == student_with_max_minutes:\n",
    "        print (engagement_record)\n",
    "        student_with_max_minutesMinutes.append(engagement_record['total_minutes_visited'])\n",
    "        pass\n",
    "print (\"student_with_max_minutesMinutes=\", student_with_max_minutesMinutes)\n",
    "print (\"len(maxMinutes)=\", len(student_with_max_minutesMinutes))#should be <= 7\n",
    "print (\"type(student_with_max_minutesMinutes)=\", type(student_with_max_minutesMinutes))\n",
    "print (\"type(student_with_max_minutesMinutes[0])=\", type(student_with_max_minutesMinutes[0]))\n",
    "print (\"max(student_with_max_minutesMinutes)=\", max(student_with_max_minutesMinutes))\n",
    "print (\"sum(student_with_max_minutesMinutes)=\", sum(student_with_max_minutesMinutes))\n",
    "        \n",
    "## Go through a similar process as before to see if there is a problem.\n",
    "## Locate at least one surprising piece of data, output it, and take a look at it.\n",
    "\n",
    "print (\"max(total_minutes_by_account.items(), key=lambda pair: pair[1])=\", max(total_minutes_by_account.items(), key=lambda pair: pair[1]))"
   ]
  },
  {
   "cell_type": "markdown",
   "metadata": {},
   "source": [
    "## Lessons Completed in First Week"
   ]
  },
  {
   "cell_type": "code",
   "execution_count": 69,
   "metadata": {
    "collapsed": false
   },
   "outputs": [
    {
     "name": "stdout",
     "output_type": "stream",
     "text": [
      "type(paid_engagement_in_first_week)= <class 'list'>\n",
      "{'lessons_completed': 0, 'account_key': '0', 'projects_completed': 0, 'num_courses_visited': 1, 'total_minutes_visited': 11.6793745, 'utc_date': datetime.datetime(2015, 1, 9, 0, 0)}\n",
      "<class 'collections.defaultdict'>\n",
      "firstKey= 87\n",
      "length of dict = number of account keys = 995\n",
      "first element of dictionary = \n",
      " {'lessons_completed': 0, 'account_key': '87', 'projects_completed': 0, 'num_courses_visited': 0, 'total_minutes_visited': 0.0, 'utc_date': datetime.datetime(2015, 1, 12, 0, 0)}\n",
      "type(first element of dictionary) = \n",
      " <class 'dict'>\n",
      "first element of dictionary.keys=\n",
      " ['lessons_completed', 'account_key', 'projects_completed', 'num_courses_visited', 'total_minutes_visited', 'utc_date']\n",
      "\n",
      "type(total_minutes_by_account)= <class 'dict'>\n",
      "firstKey= 87\n",
      "type(total_minutes_by_account.values())= <class 'dict_values'> \n",
      "\n",
      "describe_data(total_minutes_by_account.values())\n",
      "Mean: 305.414718908\n",
      "Standard deviation: 405.91261032\n",
      "Minimum: 0.0\n",
      "Maximum: 3564.7332645\n",
      "\n",
      " describe_data(list(lessons_completed_by_account.values()))\n",
      "Mean: 1.63216080402\n",
      "Standard deviation: 3.00140182563\n",
      "Minimum: 0\n",
      "Maximum: 36\n"
     ]
    }
   ],
   "source": [
    "#####################################\n",
    "#                 9                 #\n",
    "#####################################\n",
    "\n",
    "## Adapt the code above to find the mean, standard deviation, minimum, and maximum for\n",
    "## the _number of lessons_ completed by each student during the first week. Try creating\n",
    "## one or more functions to re-use the code above.\n",
    "# refer https://youtu.be/nZq-Y2lfjpY\n",
    "\n",
    "from collections import defaultdict\n",
    "\n",
    "def group_data(data, key_name):\n",
    "    grouped_data = defaultdict(list)\n",
    "    for data_point in data:\n",
    "        key = data_point[key_name]\n",
    "        grouped_data[key].append(data_point)\n",
    "    return grouped_data\n",
    "\n",
    "print (\"type(paid_engagement_in_first_week)=\", type(paid_engagement_in_first_week))\n",
    "print (paid_engagement_in_first_week[0])\n",
    "\n",
    "#group paid_engagement_in_first_week by column 'account_key'\n",
    "engagement_by_account = group_data(paid_engagement_in_first_week, 'account_key')\n",
    "print (type(engagement_by_account))\n",
    "firstKey = list(engagement_by_account.keys())[0]\n",
    "print (\"firstKey=\", firstKey)\n",
    "print (\"length of dict = number of account keys =\", len(list(engagement_by_account.keys())))\n",
    "print (\"first element of dictionary = \\n\", engagement_by_account[list(engagement_by_account.keys())[0]][0])\n",
    "print (\"type(first element of dictionary) = \\n\", type(engagement_by_account[list(engagement_by_account.keys())[0]][0]))\n",
    "print (\"first element of dictionary.keys=\\n\", list(engagement_by_account[list(engagement_by_account.keys())[0]][0].keys() ))\n",
    "\n",
    "#total_minutes_by_account = sum column 'total_minutes_visited' of each item in list? 'engagement_by_account'\n",
    "\n",
    "def sum_grouped_items(grouped_data, field_name):\n",
    "    #returns dictionary with field_name as key & rows of grouped_data as keyed values.\n",
    "    summed_data = {}\n",
    "    #dictionary to store results in.\n",
    "    for key, data_points in grouped_data.items():\n",
    "        #loop through grouped_data of class collections.defaultdict\n",
    "        #key = dictionary key,  data_points= value of key.\n",
    "        total = 0\n",
    "        for data_point in data_points:\n",
    "            #loop through each record of grouped_data\n",
    "            #get column, add to total\n",
    "            total += data_point[field_name]\n",
    "        summed_data[key] = total\n",
    "        #store total in dictionary.\n",
    "    return summed_data\n",
    "\n",
    "total_minutes_by_account = sum_grouped_items(engagement_by_account, 'total_minutes_visited')\n",
    "print (\"\\ntype(total_minutes_by_account)=\", type(total_minutes_by_account))\n",
    "firstKey = list(total_minutes_by_account.keys())[0]\n",
    "print (\"firstKey=\", firstKey)\n",
    "print (\"type(total_minutes_by_account.values())=\", type(total_minutes_by_account.values()), \"\\n\")\n",
    "\n",
    "import numpy as np\n",
    "\n",
    "def describe_data(data):\n",
    "    print ('Mean:', np.mean(data) )\n",
    "    print ('Standard deviation:', np.std(data) )\n",
    "    print ('Minimum:', np.min(data) )\n",
    "    print ('Maximum:', np.max(data) )\n",
    "\n",
    "print (\"describe_data(total_minutes_by_account.values())\")\n",
    "describe_data(list(total_minutes_by_account.values()))\n",
    "#list wrapper required for python 3.5 cf python 2.7\n",
    "\n",
    "lessons_completed_by_account = sum_grouped_items(engagement_by_account, 'lessons_completed')\n",
    "print (\"\\n describe_data(list(lessons_completed_by_account.values()))\")\n",
    "describe_data(list(lessons_completed_by_account.values()))"
   ]
  },
  {
   "cell_type": "markdown",
   "metadata": {},
   "source": [
    "## Number of Visits in First Week"
   ]
  },
  {
   "cell_type": "code",
   "execution_count": 70,
   "metadata": {
    "collapsed": false
   },
   "outputs": [
    {
     "name": "stdout",
     "output_type": "stream",
     "text": [
      "['lessons_completed', 'account_key', 'projects_completed', 'num_courses_visited', 'total_minutes_visited', 'utc_date']\n",
      "['lessons_completed', 'account_key', 'projects_completed', 'num_courses_visited', 'total_minutes_visited', 'utc_date', 'has_visited']\n",
      "\n",
      "\n",
      "Mean: 2.91256281407\n",
      "Standard deviation: 2.22037005491\n",
      "Minimum: 0\n",
      "Maximum: 7\n"
     ]
    }
   ],
   "source": [
    "######################################\n",
    "#                 10                 #\n",
    "######################################\n",
    "\n",
    "## Find the mean, standard deviation, minimum, and maximum for the number of\n",
    "## days each student visits the classroom during the first week.\n",
    "#refer https://youtu.be/5GYA5j1fqBU\n",
    "\n",
    "#method 1 - add column to engagement_record if record in paid_engagement has 'num_courses_visited'>0\n",
    "print (list(paid_engagement[0].keys()))\n",
    "#NB: if executed previously the 'has_visited' already exists.\n",
    "for engagement_record in paid_engagement:\n",
    "    if engagement_record['num_courses_visited'] > 0:\n",
    "        engagement_record['has_visited'] = 1\n",
    "    else:\n",
    "        engagement_record['has_visited'] = 0\n",
    "print (list(paid_engagement[0].keys()))\n",
    "days_visited_by_account = sum_grouped_items(engagement_by_account, 'has_visited')\n",
    "\n",
    "print (\"\\n\")\n",
    "describe_data(list(days_visited_by_account.values()))"
   ]
  },
  {
   "cell_type": "markdown",
   "metadata": {},
   "source": [
    "## Splitting out Passing Students"
   ]
  },
  {
   "cell_type": "code",
   "execution_count": 71,
   "metadata": {
    "collapsed": false
   },
   "outputs": [
    {
     "name": "stdout",
     "output_type": "stream",
     "text": [
      "paid_submissions.keys= ['creation_date', 'assigned_rating', 'account_key', 'completion_date', 'lesson_key', 'processing_state']\n",
      "paid_engagement_in_first_week.keys= ['lessons_completed', 'account_key', 'projects_completed', 'num_courses_visited', 'total_minutes_visited', 'utc_date', 'has_visited']\n",
      "<class 'set'>\n",
      "assigned_ratings= {'DISTINCTION', 'PASSED', 'INCOMPLETE', '', 'UNGRADED'}\n",
      "len(pass_subway_project)= 647\n",
      "4528\n",
      "2392\n"
     ]
    }
   ],
   "source": [
    "######################################\n",
    "#                 11                 #\n",
    "######################################\n",
    "\n",
    "## Create two lists of engagement data for paid students in the first week.\n",
    "## The first list should contain data for students who eventually pass the\n",
    "## subway project, and the second list should contain data for students\n",
    "## who do not.\n",
    "\n",
    "#split engagement data into two lists, passing & non_passing.\n",
    "print (\"paid_submissions.keys=\", list(paid_submissions[0].keys()))\n",
    "print (\"paid_engagement_in_first_week.keys=\", list(paid_engagement_in_first_week[0].keys()))\n",
    "assigned_ratings = set()\n",
    "print (type(assigned_ratings))\n",
    "for i in range(len(paid_submissions)):\n",
    "    #print (paid_submissions[i])\n",
    "    #print ('assigned_rating=', paid_submissions[i]['assigned_rating'])\n",
    "    assigned_ratings.add(paid_submissions[i]['assigned_rating'])\n",
    "print (\"assigned_ratings=\", assigned_ratings)\n",
    "# 4 possible values found : 'DISTINCTION', 'PASSED', 'INCOMPLETE', '', 'UNGRADED'\n",
    "# NB: the '' value. Need to use positive match to ensure desired behaviour.\n",
    "\n",
    "\n",
    "subway_project_lesson_keys = ['746169184', '3176718735']\n",
    "\n",
    "pass_subway_project = set()#will be set of 'account_key' values which passed subject\n",
    "\n",
    "#loop through all paid_submissions, test if subject is in subway_project_lesson_keys \n",
    "# and if 'assigned_rating' is in ['DISTINCTION', 'PASSED'] then add to set 'pass_subway_project'\n",
    "for submission in paid_submissions:\n",
    "    if (submission['lesson_key'] in subway_project_lesson_keys and submission['assigned_rating'] in ['DISTINCTION', 'PASSED']):\n",
    "        pass_subway_project.add(submission['account_key'])\n",
    "        \n",
    "print (\"len(pass_subway_project)=\", len(pass_subway_project))\n",
    "        \n",
    "passing_engagement = []\n",
    "non_passing_engagement = []\n",
    "\n",
    "for engagement_record in paid_engagement_in_first_week:\n",
    "    if engagement_record['account_key'] in pass_subway_project:\n",
    "        passing_engagement.append(engagement_record)\n",
    "    else:\n",
    "        non_passing_engagement.append(engagement_record)\n",
    "\n",
    "print (\"len(passing_engagement)=\", len(passing_engagement))#answer to pass quiz is 4527, I get 4528\n",
    "print (\"len(non_passing_engagement)=\", len(non_passing_engagement))#this returns 2392, matches teacher & passes quiz.\n"
   ]
  },
  {
   "cell_type": "code",
   "execution_count": 94,
   "metadata": {
    "collapsed": false
   },
   "outputs": [
    {
     "name": "stdout",
     "output_type": "stream",
     "text": [
      "type(passing_engagement)= <class 'list'>\n",
      "type(non_passing_engagement)= <class 'list'>\n",
      "type(passing_engagement[0])= <class 'dict'>\n",
      "type(non_passing_engagement[0])= <class 'dict'>\n",
      "non_passing_engagement[0].keys()= ['lessons_completed', 'account_key', 'projects_completed', 'num_courses_visited', 'total_minutes_visited', 'utc_date', 'has_visited']\n",
      "passing_engagement[0].keys()= ['lessons_completed', 'account_key', 'projects_completed', 'num_courses_visited', 'total_minutes_visited', 'utc_date', 'has_visited']\n",
      "<class 'collections.defaultdict'>\n",
      "<class 'collections.defaultdict'>\n",
      "passing_minutes.keys()[0]= 87\n",
      "non_passing_minutes.keys()[0]= 682\n"
     ]
    }
   ],
   "source": [
    "print (\"type(passing_engagement)=\", type(passing_engagement))\n",
    "print (\"type(non_passing_engagement)=\", type(non_passing_engagement))\n",
    "print (\"type(passing_engagement[0])=\", type(passing_engagement[0]))\n",
    "print (\"type(non_passing_engagement[0])=\", type(non_passing_engagement[0]))\n",
    "print (\"non_passing_engagement[0].keys()=\", list(non_passing_engagement[0].keys()))\n",
    "print (\"passing_engagement[0].keys()=\", list(passing_engagement[0].keys()))\n",
    "#print (passing_engagement[0])\n",
    "#print (non_passing_engagement[0])\n",
    "#group passing_engagement on 'account_key'\n",
    "passing_engagement_by_account = group_data(passing_engagement,'account_key')\n",
    "print (type(passing_engagement_by_account))\n",
    "#group non_passing_engagement on 'account_key'\n",
    "non_passing_engagement_by_account = group_data(non_passing_engagement, 'account_key')\n",
    "print (type(non_passing_engagement_by_account))\n",
    "\n",
    "#NB: function group_data returns 'collections.defaultdict'\n",
    "#sum_grouped_items(grouped_data, field_name):\n",
    "#returns dictionary with field_name as key & rows of grouped_data as keyed values.\n",
    "passing_minutes = sum_grouped_items(passing_engagement_by_account, 'total_minutes_visited')\n",
    "print (\"passing_minutes.keys()[0]=\", list(passing_minutes.keys())[0])\n",
    "non_passing_minutes = sum_grouped_items(non_passing_engagement_by_account, 'total_minutes_visited')\n",
    "print (\"non_passing_minutes.keys()[0]=\", list(non_passing_minutes.keys())[0])\n"
   ]
  },
  {
   "cell_type": "code",
   "execution_count": 95,
   "metadata": {
    "collapsed": false
   },
   "outputs": [
    {
     "name": "stdout",
     "output_type": "stream",
     "text": [
      "\n",
      "describe_data non_passing_minutes\n",
      "Mean: 145.399341866\n",
      "Standard deviation: 268.97150373\n",
      "Minimum: 0.0\n",
      "Maximum: 1768.52274933\n",
      "\n",
      "describe_data passing_minutes\n",
      "Mean: 391.481722325\n",
      "Standard deviation: 439.653061726\n",
      "Minimum: 0.0\n",
      "Maximum: 3564.7332645\n"
     ]
    }
   ],
   "source": [
    "print (\"\\ndescribe_data non_passing_minutes\")\n",
    "describe_data(list(non_passing_minutes.values()))#Mean: 145, Maximum: 1768\n",
    "print (\"\\ndescribe_data passing_minutes\")\n",
    "describe_data(list(passing_minutes.values()))#Mean: 391, Maximum: 3564\n",
    "#more minutes engagement to pass cf non-pass."
   ]
  },
  {
   "cell_type": "code",
   "execution_count": 98,
   "metadata": {
    "collapsed": false
   },
   "outputs": [
    {
     "name": "stdout",
     "output_type": "stream",
     "text": [
      "\n",
      "non-passing students Lessons completed:\n",
      "Mean: 0.867816091954\n",
      "Standard deviation: 2.54833703959\n",
      "Minimum: 0\n",
      "Maximum: 27\n",
      "\n",
      "passing students Lessons completed:\n",
      "Mean: 2.04327666151\n",
      "Standard deviation: 3.1428602763\n",
      "Minimum: 0\n",
      "Maximum: 36\n"
     ]
    }
   ],
   "source": [
    "#now compare 'lessons_completed' for passing_engagement_by_account & non_passing_engagement_by_account\n",
    "print (\"\\nnon-passing students Lessons completed:\")\n",
    "non_passing_lessons = sum_grouped_items(non_passing_engagement_by_account,'lessons_completed')\n",
    "describe_data(list(non_passing_lessons.values()))\n",
    "print (\"\\npassing students Lessons completed:\")\n",
    "passing_lessons = sum_grouped_items(passing_engagement_by_account,'lessons_completed')\n",
    "describe_data(list(passing_lessons.values()))\n",
    "#passing mean > twice non-passing mean for No. of lessons completed."
   ]
  },
  {
   "cell_type": "code",
   "execution_count": 107,
   "metadata": {
    "collapsed": false
   },
   "outputs": [
    {
     "name": "stdout",
     "output_type": "stream",
     "text": [
      "\n",
      "non-passing students has_visited:\n",
      "Mean: 1.95114942529\n",
      "Standard deviation: 1.88929952676\n",
      "Minimum: 0\n",
      "Maximum: 7\n",
      "\n",
      "passing students has_visited:\n",
      "Mean: 3.42967542504\n",
      "Standard deviation: 2.21298340866\n",
      "Minimum: 0\n",
      "Maximum: 7\n"
     ]
    }
   ],
   "source": [
    "#now compare 'has_visited' for passing_engagement_by_account & non_passing_engagement_by_account\n",
    "#recall : 'has_visited' is column added to paid_engagement if record in paid_engagement has 'num_courses_visited'>0\n",
    "print (\"\\nnon-passing students has_visited:\")\n",
    "non_passing_visits = sum_grouped_items(non_passing_engagement_by_account,'has_visited')\n",
    "describe_data(list(non_passing_visits.values()))\n",
    "print (\"\\npassing students has_visited:\")\n",
    "passing_visits = sum_grouped_items(passing_engagement_by_account,'has_visited')\n",
    "describe_data(list(passing_visits.values()))\n",
    "#refer https://youtu.be/6UYEM0XUSGQ\n",
    "#results slightly different. small difference!!!"
   ]
  },
  {
   "cell_type": "code",
   "execution_count": 106,
   "metadata": {
    "collapsed": false
   },
   "outputs": [
    {
     "name": "stdout",
     "output_type": "stream",
     "text": [
      "has_visitedValues= {0, 1}\n"
     ]
    }
   ],
   "source": [
    "#short calc to show range of values of 'has_visited' column\n",
    "has_visitedValues = set()\n",
    "#print (len(paid_engagement))\n",
    "#print (paid_engagement[0]['has_visited'])\n",
    "for i in range(len(paid_engagement)):\n",
    "    has_visitedValues.add(paid_engagement[i]['has_visited'])\n",
    "#print (\"len(has_visitedValues)=\", len(has_visitedValues))\n",
    "print (\"has_visitedValues=\", has_visitedValues)"
   ]
  },
  {
   "cell_type": "markdown",
   "metadata": {},
   "source": [
    "## Comparing the Two Student Groups"
   ]
  },
  {
   "cell_type": "code",
   "execution_count": null,
   "metadata": {
    "collapsed": true
   },
   "outputs": [],
   "source": [
    "######################################\n",
    "#                 12                 #\n",
    "######################################\n",
    "\n",
    "## Compute some metrics you're interested in and see how they differ for\n",
    "## students who pass the subway project vs. students who don't. A good\n",
    "## starting point would be the metrics we looked at earlier (minutes spent\n",
    "## in the classroom, lessons completed, and days visited).\n",
    "\n"
   ]
  },
  {
   "cell_type": "markdown",
   "metadata": {},
   "source": [
    "## Making Histograms"
   ]
  },
  {
   "cell_type": "code",
   "execution_count": 112,
   "metadata": {
    "collapsed": false
   },
   "outputs": [
    {
     "data": {
      "text/plain": [
       "(array([ 3.,  0.,  2.,  0.,  0.,  2.,  0.,  1.]),\n",
       " array([ 1.   ,  1.375,  1.75 ,  2.125,  2.5  ,  2.875,  3.25 ,  3.625,  4.   ]),\n",
       " <a list of 8 Patch objects>)"
      ]
     },
     "execution_count": 112,
     "metadata": {},
     "output_type": "execute_result"
    },
    {
     "data": {
      "image/png": "[encoded data removed]",
      "text/plain": [
       "<matplotlib.figure.Figure at 0x248835396d8>"
      ]
     },
     "metadata": {},
     "output_type": "display_data"
    }
   ],
   "source": [
    "#simple demo\n",
    "data = [1, 2, 1, 3, 3, 1, 4, 2]\n",
    "%matplotlib inline\n",
    "import matplotlib.pyplot as plt\n",
    "plt.hist(data, bins=8)"
   ]
  },
  {
   "cell_type": "code",
   "execution_count": 130,
   "metadata": {
    "collapsed": false
   },
   "outputs": [
    {
     "name": "stdout",
     "output_type": "stream",
     "text": [
      "Mean: 3.42967542504\n",
      "Standard deviation: 2.21298340866\n",
      "Minimum: 0\n",
      "Maximum: 7\n"
     ]
    },
    {
     "data": {
      "image/png": "[encoded data removed]",
      "text/plain": [
       "<matplotlib.figure.Figure at 0x248833c25f8>"
      ]
     },
     "metadata": {},
     "output_type": "display_data"
    }
   ],
   "source": [
    "######################################\n",
    "#                 13                 #\n",
    "######################################\n",
    "\n",
    "## Make histograms of the three metrics we looked at earlier for both\n",
    "## students who passed the subway project and students who didn't. You\n",
    "## might also want to make histograms of any other metrics you examined.\n",
    "#refer https://classroom.udacity.com/courses/ud170/lessons/5430778793/concepts/53961386540923\n",
    "%matplotlib inline\n",
    "\n",
    "#NB: '%pylab inline' is deprecated, do not use.\n",
    "\n",
    "import matplotlib.pyplot as plt\n",
    "import numpy as np\n",
    "#NB: both these import statements are redundant since imported in cells above.\n",
    "\n",
    "# Summarize the given data\n",
    "def describe_data(data, xlabel, title, numBins=7):\n",
    "    print ('Mean:', np.mean(data))\n",
    "    print ('Standard deviation:', np.std(data))\n",
    "    print ('Minimum:', np.min(data))\n",
    "    print ('Maximum:', np.max(data))\n",
    "    plt.hist(data, bins=numBins)\n",
    "    plt.xlabel(xlabel)\n",
    "    plt.ylabel('No of students')\n",
    "    plt.title(title)\n",
    "describe_data(list(passing_visits.values()), \"visits/week\", \"Passing Students\")"
   ]
  },
  {
   "cell_type": "code",
   "execution_count": 131,
   "metadata": {
    "collapsed": false
   },
   "outputs": [
    {
     "name": "stdout",
     "output_type": "stream",
     "text": [
      "Mean: 1.95114942529\n",
      "Standard deviation: 1.88929952676\n",
      "Minimum: 0\n",
      "Maximum: 7\n"
     ]
    },
    {
     "data": {
      "image/png": "[encoded data removed]",
      "text/plain": [
       "<matplotlib.figure.Figure at 0x2488339ee80>"
      ]
     },
     "metadata": {},
     "output_type": "display_data"
    }
   ],
   "source": [
    "describe_data(list(non_passing_visits.values()), \"visits/week\", \"Non Passing Students\")"
   ]
  },
  {
   "cell_type": "code",
   "execution_count": 132,
   "metadata": {
    "collapsed": false
   },
   "outputs": [
    {
     "name": "stdout",
     "output_type": "stream",
     "text": [
      "Mean: 2.04327666151\n",
      "Standard deviation: 3.1428602763\n",
      "Minimum: 0\n",
      "Maximum: 36\n"
     ]
    },
    {
     "data": {
      "image/png": "[encoded data removed]",
      "text/plain": [
       "<matplotlib.figure.Figure at 0x24883491e48>"
      ]
     },
     "metadata": {},
     "output_type": "display_data"
    }
   ],
   "source": [
    "describe_data(list(passing_lessons.values()), \"Lessons Completed\", \"Passing Students\", numBins=10)"
   ]
  },
  {
   "cell_type": "code",
   "execution_count": 133,
   "metadata": {
    "collapsed": false
   },
   "outputs": [
    {
     "name": "stdout",
     "output_type": "stream",
     "text": [
      "Mean: 0.867816091954\n",
      "Standard deviation: 2.54833703959\n",
      "Minimum: 0\n",
      "Maximum: 27\n"
     ]
    },
    {
     "data": {
      "image/png": "[encoded data removed]",
      "text/plain": [
       "<matplotlib.figure.Figure at 0x2488346a908>"
      ]
     },
     "metadata": {},
     "output_type": "display_data"
    }
   ],
   "source": [
    "describe_data(list(non_passing_lessons.values()), \"Lessons Completed\", \"Non Passing Students\", numBins=10)"
   ]
  },
  {
   "cell_type": "code",
   "execution_count": 137,
   "metadata": {
    "collapsed": false
   },
   "outputs": [
    {
     "data": {
      "text/plain": [
       "<matplotlib.text.Text at 0x24882f622e8>"
      ]
     },
     "execution_count": 137,
     "metadata": {},
     "output_type": "execute_result"
    },
    {
     "data": {
      "image/png": "[encoded data removed]",
      "text/plain": [
       "<matplotlib.figure.Figure at 0x24882f8bb38>"
      ]
     },
     "metadata": {},
     "output_type": "display_data"
    }
   ],
   "source": [
    "import seaborn as sns\n",
    "\n",
    "plt.hist(list(non_passing_visits.values()), bins=8)\n",
    "plt.xlabel('Number of days')\n",
    "plt.title('Distribution of classroom visits in the first week ' + \n",
    "          'for students who do not pass the subway project')\n"
   ]
  },
  {
   "cell_type": "code",
   "execution_count": 138,
   "metadata": {
    "collapsed": false
   },
   "outputs": [
    {
     "data": {
      "text/plain": [
       "<matplotlib.text.Text at 0x24882f355c0>"
      ]
     },
     "execution_count": 138,
     "metadata": {},
     "output_type": "execute_result"
    },
    {
     "data": {
      "image/png": "[encoded data removed]",
      "text/plain": [
       "<matplotlib.figure.Figure at 0x24882f4d6d8>"
      ]
     },
     "metadata": {},
     "output_type": "display_data"
    }
   ],
   "source": [
    "plt.hist(list(passing_visits.values()), bins=8)\n",
    "plt.xlabel('Number of days')\n",
    "plt.title('Distribution of classroom visits in the first week ' + \n",
    "          'for students who pass the subway project')"
   ]
  },
  {
   "cell_type": "markdown",
   "metadata": {},
   "source": [
    "## Improving Plots and Sharing Findings"
   ]
  },
  {
   "cell_type": "code",
   "execution_count": 141,
   "metadata": {
    "collapsed": false
   },
   "outputs": [
    {
     "data": {
      "image/png": "[encoded data removed]",
      "text/plain": [
       "<matplotlib.figure.Figure at 0x24882f4cf98>"
      ]
     },
     "metadata": {},
     "output_type": "display_data"
    }
   ],
   "source": [
    "######################################\n",
    "#                 14                 #\n",
    "######################################\n",
    "\n",
    "## Make a more polished version of at least one of your visualizations\n",
    "## from earlier. Try importing the seaborn library to make the visualization\n",
    "## look better, adding axis labels and a title, and changing one or more\n",
    "## arguments to the hist() function.\n",
    "numBins = 7\n",
    "plt.hist(list(passing_lessons.values()), bins=numBins, alpha=0.5, label='Passing Students')\n",
    "plt.hist(list(non_passing_lessons.values()), bins=numBins, alpha=0.5, label='Non Passing Students')\n",
    "plt.xlabel(\"Lessons Completed\")\n",
    "plt.ylabel('No of students')\n",
    "plt.title(\"Impact of Lessons Completed on Pass/Fail\")\n",
    "pyplot.legend(loc='upper right')\n",
    "pyplot.show()"
   ]
  },
  {
   "cell_type": "code",
   "execution_count": 149,
   "metadata": {
    "collapsed": false
   },
   "outputs": [
    {
     "data": {
      "image/png": "[encoded data removed]",
      "text/plain": [
       "<matplotlib.figure.Figure at 0x24882ec27f0>"
      ]
     },
     "metadata": {},
     "output_type": "display_data"
    }
   ],
   "source": [
    "\n",
    "plt.hist(list(non_passing_visits.values()), bins=numBins, alpha=0.5, label='Fail')\n",
    "plt.hist(list(passing_visits.values()), bins=numBins, alpha=0.5, label='Pass')\n",
    "plt.xlabel(\"Visits/week\")\n",
    "plt.ylabel('No of students')\n",
    "plt.title(\"Impact of visits on Pass/Fail\")\n",
    "pyplot.legend(loc='upper left')\n",
    "pyplot.show()\n",
    "#Note: dark green is where Fail & Pass overlap. \n",
    "#Needs a side by side histogram display for better impact.\n"
   ]
  },
  {
   "cell_type": "code",
   "execution_count": null,
   "metadata": {
    "collapsed": true
   },
   "outputs": [],
   "source": []
  }
 ],
 "metadata": {
  "kernelspec": {
   "display_name": "Python 3",
   "language": "python",
   "name": "python3"
  },
  "language_info": {
   "codemirror_mode": {
    "name": "ipython",
    "version": 3
   },
   "file_extension": ".py",
   "mimetype": "text/x-python",
   "name": "python",
   "nbconvert_exporter": "python",
   "pygments_lexer": "ipython3",
   "version": "3.5.1"
  }
 },
 "nbformat": 4,
 "nbformat_minor": 0
}
